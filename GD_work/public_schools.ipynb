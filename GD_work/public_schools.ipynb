{
 "cells": [
  {
   "attachments": {},
   "cell_type": "markdown",
   "metadata": {},
   "source": [
    "- DataFrame for counties\n",
    "\n",
    "walkability index\n",
    "area (sq miles)\n",
    "number of public schools\n",
    "number of students\n",
    "percent FRL"
   ]
  },
  {
   "cell_type": "code",
   "execution_count": 1,
   "metadata": {},
   "outputs": [],
   "source": [
    "import pandas as pd"
   ]
  },
  {
   "cell_type": "code",
   "execution_count": 20,
   "metadata": {},
   "outputs": [
    {
     "data": {
      "text/plain": [
       "X                   float64\n",
       "Y                   float64\n",
       "OBJECTID              int64\n",
       "NCESSCH               int64\n",
       "SURVYEAR             object\n",
       "STABR                object\n",
       "LEAID                 int64\n",
       "ST_LEAID             object\n",
       "LEA_NAME             object\n",
       "SCH_NAME             object\n",
       "LSTREET1             object\n",
       "LSTREET2             object\n",
       "LCITY                object\n",
       "LSTATE               object\n",
       "LZIP                  int64\n",
       "LZIP4                object\n",
       "PHONE                object\n",
       "GSLO                 object\n",
       "GSHI                 object\n",
       "VIRTUAL              object\n",
       "TOTFRL              float64\n",
       "FRELCH              float64\n",
       "REDLCH              float64\n",
       "PK                  float64\n",
       "KG                  float64\n",
       "G01                 float64\n",
       "G02                 float64\n",
       "G03                 float64\n",
       "G04                 float64\n",
       "G05                 float64\n",
       "G06                 float64\n",
       "G07                 float64\n",
       "G08                 float64\n",
       "G09                 float64\n",
       "G10                 float64\n",
       "G11                 float64\n",
       "G12                 float64\n",
       "G13                 float64\n",
       "TOTAL               float64\n",
       "MEMBER              float64\n",
       "AM                  float64\n",
       "HI                  float64\n",
       "BL                  float64\n",
       "WH                  float64\n",
       "HP                  float64\n",
       "TR                  float64\n",
       "FTE                 float64\n",
       "LATCOD              float64\n",
       "LONCOD              float64\n",
       "ULOCALE              object\n",
       "NMCNTY               object\n",
       "STUTERATIO          float64\n",
       "TITLEI               object\n",
       "STITLEI              object\n",
       "AMALM               float64\n",
       "AMALF               float64\n",
       "ASALM               float64\n",
       "ASALF               float64\n",
       "HIALM               float64\n",
       "HIALF               float64\n",
       "BLALM               float64\n",
       "BLALF               float64\n",
       "WHALM               float64\n",
       "WHALF               float64\n",
       "HPALM               float64\n",
       "HPALF               float64\n",
       "TRALM               float64\n",
       "TRALF               float64\n",
       "TOTMENROL           float64\n",
       "TOTFENROL           float64\n",
       "STATUS                int64\n",
       "UG                  float64\n",
       "AE                  float64\n",
       "SCHOOL_TYPE_TEXT     object\n",
       "SY_STATUS_TEXT       object\n",
       "SCHOOL_LEVEL         object\n",
       "AS_                 float64\n",
       "CHARTER_TEXT         object\n",
       "MAGNET_TEXT          object\n",
       "dtype: object"
      ]
     },
     "execution_count": 20,
     "metadata": {},
     "output_type": "execute_result"
    }
   ],
   "source": [
    "public_schools_df = pd.read_csv('./static/data/Public_School_Characteristics_-_Current.csv')\n",
    "public_schools_df.dtypes"
   ]
  },
  {
   "cell_type": "code",
   "execution_count": 29,
   "metadata": {},
   "outputs": [
    {
     "data": {
      "text/html": [
       "<div>\n",
       "<style scoped>\n",
       "    .dataframe tbody tr th:only-of-type {\n",
       "        vertical-align: middle;\n",
       "    }\n",
       "\n",
       "    .dataframe tbody tr th {\n",
       "        vertical-align: top;\n",
       "    }\n",
       "\n",
       "    .dataframe thead th {\n",
       "        text-align: right;\n",
       "    }\n",
       "</style>\n",
       "<table border=\"1\" class=\"dataframe\">\n",
       "  <thead>\n",
       "    <tr style=\"text-align: right;\">\n",
       "      <th></th>\n",
       "      <th></th>\n",
       "      <th>OBJECTID</th>\n",
       "      <th>TOTFRL</th>\n",
       "      <th>TOTAL</th>\n",
       "    </tr>\n",
       "    <tr>\n",
       "      <th>STABR</th>\n",
       "      <th>NMCNTY</th>\n",
       "      <th></th>\n",
       "      <th></th>\n",
       "      <th></th>\n",
       "    </tr>\n",
       "  </thead>\n",
       "  <tbody>\n",
       "    <tr>\n",
       "      <th rowspan=\"5\" valign=\"top\">AK</th>\n",
       "      <th>Aleutians East Borough</th>\n",
       "      <td>6446</td>\n",
       "      <td>0.0</td>\n",
       "      <td>228.0</td>\n",
       "    </tr>\n",
       "    <tr>\n",
       "      <th>Aleutians West Census Area</th>\n",
       "      <td>11279</td>\n",
       "      <td>0.0</td>\n",
       "      <td>477.0</td>\n",
       "    </tr>\n",
       "    <tr>\n",
       "      <th>Anchorage Municipality</th>\n",
       "      <td>174656</td>\n",
       "      <td>0.0</td>\n",
       "      <td>42607.0</td>\n",
       "    </tr>\n",
       "    <tr>\n",
       "      <th>Bethel Census Area</th>\n",
       "      <td>70481</td>\n",
       "      <td>0.0</td>\n",
       "      <td>4974.0</td>\n",
       "    </tr>\n",
       "    <tr>\n",
       "      <th>Bristol Bay Borough</th>\n",
       "      <td>6766</td>\n",
       "      <td>0.0</td>\n",
       "      <td>119.0</td>\n",
       "    </tr>\n",
       "  </tbody>\n",
       "</table>\n",
       "</div>"
      ],
      "text/plain": [
       "                                  OBJECTID  TOTFRL    TOTAL\n",
       "STABR NMCNTY                                               \n",
       "AK    Aleutians East Borough          6446     0.0    228.0\n",
       "      Aleutians West Census Area     11279     0.0    477.0\n",
       "      Anchorage Municipality        174656     0.0  42607.0\n",
       "      Bethel Census Area             70481     0.0   4974.0\n",
       "      Bristol Bay Borough             6766     0.0    119.0"
      ]
     },
     "execution_count": 29,
     "metadata": {},
     "output_type": "execute_result"
    }
   ],
   "source": [
    "filtered_df = public_schools_df[['OBJECTID', 'STABR', 'SCH_NAME', 'NMCNTY', 'TOTFRL', 'TOTAL', 'SCHOOL_LEVEL']]\n",
    "counties_df = filtered_df.groupby(['STABR','NMCNTY', 'SCH_NAME']).sum()\n",
    "counties_df.head()"
   ]
  },
  {
   "cell_type": "code",
   "execution_count": 19,
   "metadata": {},
   "outputs": [],
   "source": []
  },
  {
   "cell_type": "code",
   "execution_count": null,
   "metadata": {},
   "outputs": [],
   "source": []
  }
 ],
 "metadata": {
  "kernelspec": {
   "display_name": "PythonDataOne",
   "language": "python",
   "name": "python3"
  },
  "language_info": {
   "codemirror_mode": {
    "name": "ipython",
    "version": 3
   },
   "file_extension": ".py",
   "mimetype": "text/x-python",
   "name": "python",
   "nbconvert_exporter": "python",
   "pygments_lexer": "ipython3",
   "version": "3.7.7"
  },
  "orig_nbformat": 4,
  "vscode": {
   "interpreter": {
    "hash": "e247b9454e4c690f05a6394f0637915298e80ca65991b01e9ad2aec6a6d4c020"
   }
  }
 },
 "nbformat": 4,
 "nbformat_minor": 2
}
