{
 "cells": [
  {
   "cell_type": "code",
   "execution_count": 1,
   "metadata": {},
   "outputs": [],
   "source": [
    "import pandas as pd"
   ]
  },
  {
   "cell_type": "code",
   "execution_count": 2,
   "metadata": {},
   "outputs": [],
   "source": [
    "file = 'Resources/walkability.csv'\n",
    "df = pd.read_csv(file, encoding=\"ISO-8859-1\", low_memory=False)"
   ]
  },
  {
   "cell_type": "code",
   "execution_count": 4,
   "metadata": {},
   "outputs": [],
   "source": [
    "#ADD LEADING ZEROS IN FRONT OF STATE AND COUNTY TO MATCH WITH THE SCHOOL DATA 'CNTY' KEY\n",
    "df['STATEFP'] = df['STATEFP'].astype(str).apply('{:0>2}'.format)\n",
    "df['COUNTYFP'] = df['COUNTYFP'].astype(str).apply('{:0>3}'.format)\n",
    "\n",
    "#CONCATENATING 'STATEFP' WITH 'COUNTYFP' AND CREATING 'CNTY' COLUMN AS A PRIMARY KEY\n",
    "df['CNTY'] = df['STATEFP'] + df['COUNTYFP']"
   ]
  },
  {
   "cell_type": "code",
   "execution_count": 5,
   "metadata": {},
   "outputs": [],
   "source": [
    "#Break apart this large dataset into dataframes that will could be used to populate map visuals.  \n",
    "\n",
    "administrative_df = df[['STATEFP','COUNTYFP', 'CBSA_Name']]\n",
    "population_df = df[['STATEFP','COUNTYFP', 'TotPop', 'HH']]\n",
    "autoOwnership_df = df[['STATEFP','COUNTYFP', 'AutoOwn0', 'Pct_AO0', 'AutoOwn1', 'Pct_AO1', 'AutoOwn2p', 'Pct_AO2p']]\n",
    "householdWages_df = df[['STATEFP','COUNTYFP', 'Workers', 'R_LowWageWk', 'R_MedWageWk', 'R_HiWageWk', 'R_PCTLOWWAGE']]\n",
    "workDistance_df = df[['STATEFP','COUNTYFP', 'D5AR', 'D5AE']]\n",
    "walkability_df = df[['STATEFP','COUNTYFP','NatWalkInd']]"
   ]
  },
  {
   "cell_type": "code",
   "execution_count": 6,
   "metadata": {},
   "outputs": [],
   "source": [
    "#rename the columns to better understand the data. See Resources/documentation_guide.pdf for more context. \n",
    "\n",
    "# ----- administrative_df ----- # \n",
    "    #area_name: Census Bureau Statistical Area to be used as a reference only. \n",
    "\n",
    "# ----- population_df ----- # \n",
    "    #population: is the population of each area. The total sum represents on total country population (pre 2022 census)\n",
    "    #households: How many homes/units in each area. \n",
    "\n",
    "# ----- autoOwnership_df ----- # \n",
    "    # _cars: Each column represents how many cars per household and what percentage of total cars per area. \n",
    "\n",
    "# ----- householdWages_df ----- # \n",
    "    # _wage: Each column represents the wages per area.\n",
    "        #low_wage: $1250/month or less \n",
    "        #medium_wage: more than $1250/month but less than $3333/month\n",
    "        #high_wage: earning $3333/month or more\n",
    "    #pct_low_wage: percentage of low wage workers in the area.     \n",
    "\n",
    "# ----- workDistance_df ----- # \n",
    "    #jobs_within_45min_drive: available jobs within 45 min drive from each area. \n",
    "    #workers_within_45min_drive: how many working age people living 45 minutes from available jobs.\n",
    "\n",
    "# ----- walkability_df ----- # \n",
    "#walkability_score:\n",
    "    #walkability score = (w/3) + (x/3) + (y/6) + (z/6)\n",
    "#        Where w = CBG ranked score for intersection density\n",
    "#                    x = CBG ranked score for proximity to transit stops\n",
    "#                    y = CBG ranked score for employment mix\n",
    "#                    z = CBG ranked score for employment and household mix \n",
    "\n",
    "\n",
    "administrative_df = administrative_df.rename(columns={'STATEFP':'state','COUNTYFP':'county', 'CBSA_Name':'area_name'})\n",
    "population_df = population_df.rename(columns={'STATEFP':'state','COUNTYFP':'county', 'TotPop':'population', 'HH':'households'})\n",
    "autoOwnership_df = autoOwnership_df.rename(columns={'STATEFP':'state','COUNTYFP':'county', 'AutoOwn0':'no_cars', 'Pct_AO0':'pct_no_cars', 'AutoOwn1':'one_cars', 'Pct_AO1':'pct_one_cars', 'AutoOwn2p':'two+_cars', 'Pct_AO2p':'pct_two+_cars'})\n",
    "householdWages_df = householdWages_df.rename(columns={'STATEFP':'state','COUNTYFP':'county','R_LowWageWk':'low_wage', 'R_MedWageWk':'medium_wage', 'R_HiWageWk':'high_wage', 'R_PCTLOWWAGE':'pct_low_wage'})\n",
    "workDistance_df = workDistance_df.rename(columns={'STATEFP':'state','COUNTYFP':'county','D5AR':'jobs_within_45min_drive', 'D5AE': 'workers_within_45min_drive'})\n",
    "walkability_df = walkability_df.rename(columns={'STATEFP':'state','COUNTYFP':'county','NatWalkInd':'walkability_score'})"
   ]
  },
  {
   "cell_type": "code",
   "execution_count": 7,
   "metadata": {},
   "outputs": [],
   "source": [
    "#Grouping data from area into county that will be used for county data analysis and visualizations. Rounding and \n",
    "#Reseting the index to allow combining the state and county code in the next step.\n",
    "\n",
    "county_population_df = population_df.groupby(['state','county']).sum().round().reset_index()\n",
    "county_autoOwnership_df = autoOwnership_df.groupby(['state','county']).sum().round().reset_index()\n",
    "county_householdWages_df = householdWages_df.groupby(['state','county']).mean().round().reset_index()\n",
    "county_workDistance_df = workDistance_df.groupby(['state','county']).mean().round().reset_index()\n",
    "county_walkability_df = walkability_df.groupby(['state','county']).mean().reset_index()"
   ]
  },
  {
   "cell_type": "code",
   "execution_count": 8,
   "metadata": {},
   "outputs": [],
   "source": [
    "#Adding a unique_id that combines the state and county code. This could be used as a unique key because county codes are not unique. \n",
    "\n",
    "administrative_df['unique_id'] = administrative_df['state']+administrative_df['county']\n",
    "county_population_df['unique_id'] = county_population_df['state']+county_population_df['county']\n",
    "county_autoOwnership_df['unique_id'] = county_autoOwnership_df['state']+county_autoOwnership_df['county']\n",
    "county_householdWages_df['unique_id'] = county_householdWages_df['state']+county_householdWages_df['county']\n",
    "county_workDistance_df['unique_id'] = county_workDistance_df['state']+county_workDistance_df['county']\n",
    "county_walkability_df['unique_id'] = county_walkability_df['state']+county_walkability_df['county']"
   ]
  },
  {
   "cell_type": "code",
   "execution_count": 9,
   "metadata": {},
   "outputs": [],
   "source": [
    "#Exporting dataframes to CSV files. This is needed because the Walkability.csv file is too large on it's own to upload onto Github. \n",
    "\n",
    "administrative_df.to_csv('Resources/administrative_df.csv')\n",
    "county_population_df.to_csv('Resources/county_population_df.csv')\n",
    "county_autoOwnership_df.to_csv('Resources/county_autoOwnership_df.csv')\n",
    "county_householdWages_df.to_csv('Resources/county_householdWages_df.csv')\n",
    "county_workDistance_df.to_csv('Resources/county_workDistance_df.csv')\n",
    "county_walkability_df.to_csv('Resources/county_walkability_df.csv')"
   ]
  }
 ],
 "metadata": {
  "kernelspec": {
   "display_name": "PythonDataOne",
   "language": "python",
   "name": "python3"
  },
  "language_info": {
   "codemirror_mode": {
    "name": "ipython",
    "version": 3
   },
   "file_extension": ".py",
   "mimetype": "text/x-python",
   "name": "python",
   "nbconvert_exporter": "python",
   "pygments_lexer": "ipython3",
   "version": "3.7.7"
  },
  "orig_nbformat": 4,
  "vscode": {
   "interpreter": {
    "hash": "ec774b470c5fe9e64d857c15c900fa4c7894f69b8ed6dc13344c7115ac1acd43"
   }
  }
 },
 "nbformat": 4,
 "nbformat_minor": 2
}
